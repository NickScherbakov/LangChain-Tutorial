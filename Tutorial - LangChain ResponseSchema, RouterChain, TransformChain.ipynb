{
 "cells": [
  {
   "cell_type": "markdown",
   "id": "41eba7bc-fa3e-4a67-bac8-723c33b9aca4",
   "metadata": {},
   "source": [
    "# Tutorial: ResponseSchema, RouterChain, and TransformChain in LangChain"
   ]
  },
  {
   "cell_type": "markdown",
   "id": "c3e840b1-ba21-426f-b470-e484b5431ee5",
   "metadata": {},
   "source": [
    "### Install required libraries"
   ]
  },
  {
   "cell_type": "code",
   "execution_count": 6,
   "id": "b37eb9a9-1ccb-410d-ae97-827996c0da56",
   "metadata": {},
   "outputs": [],
   "source": [
    "!pip install langchain -q\n",
    "!pip install openai -q\n",
    "!pip install python-dotenv -q"
   ]
  },
  {
   "cell_type": "markdown",
   "id": "333c4a26-063b-4519-9f5a-63f04b83e4c7",
   "metadata": {},
   "source": [
    "### Load Environment Variables"
   ]
  },
  {
   "cell_type": "code",
   "execution_count": 8,
   "id": "e280d3a0-8847-4c2a-bafc-30a5967328af",
   "metadata": {},
   "outputs": [
    {
     "name": "stdout",
     "output_type": "stream",
     "text": [
      "OpenAI API key loaded: True\n"
     ]
    }
   ],
   "source": [
    "import os\n",
    "import openai\n",
    "from dotenv import load_dotenv, find_dotenv\n",
    "load_dotenv(find_dotenv(), override=True)\n",
    "\n",
    "os.environ.get('OPENAI_API_KEY')\n",
    "\n",
    "print('OpenAI API key loaded:', os.environ.get('OPENAI_API_KEY') is not None)"
   ]
  },
  {
   "cell_type": "markdown",
   "id": "35b999ef-ea73-4f44-b683-a8148e629ba5",
   "metadata": {},
   "source": [
    "### Basic Chain"
   ]
  },
  {
   "cell_type": "code",
   "execution_count": 12,
   "id": "acecb4da-0d07-42fe-8ce0-b3c6cfe53bc0",
   "metadata": {},
   "outputs": [
    {
     "data": {
      "text/plain": [
       "{'input': \"The movie 'Everything Everywhere All at Once' was a mind-bending masterpiece! Michelle Yeoh's performance was simply phenomenal, and the visuals were breathtaking. It's a must-watch for anyone who loves sci-fi with a touch of heart. The cinema ticket price was 5.12 $\",\n",
       " 'text': '{\\n    \"title\": \"Everything Everywhere All at Once\",\\n    \"sentiment\": \"positive\",\\n    \"lead_actor\": \"Michelle Yeoh\",\\n    \"genre\": \"sci-fi\",\\n    \"price\": \"$5.12\"\\n}'}"
      ]
     },
     "execution_count": 12,
     "metadata": {},
     "output_type": "execute_result"
    }
   ],
   "source": [
    "from langchain.prompts import ChatPromptTemplate\n",
    "from langchain.chat_models import ChatOpenAI\n",
    "from langchain.chains import LLMChain\n",
    "\n",
    "Template=\"\"\"\n",
    "Interprete the text and evaluate the text.\n",
    "title: Title of the Movie.\n",
    "sentiment: Overall sentiment (positive, negative, mixed).\n",
    "lead_actor: name of the lead actor/actress.\n",
    "genre: Main genre of the movie (e.g., sci-fi, comedy, drama)\n",
    "budget: The budget of the movie\n",
    "\n",
    "# Here's how we want the output to be structured:\n",
    "Format the output as JSON with the following keys:\n",
    "title\n",
    "sentiment\n",
    "lead_actor\n",
    "genre\n",
    "price\n",
    "\n",
    "# This is where the input will go:\n",
    "text: {input}\n",
    "\"\"\"\n",
    "\n",
    "llm = ChatOpenAI()\n",
    "\n",
    "prompt_template = ChatPromptTemplate.from_template(template=Template)\n",
    "\n",
    "chain = LLMChain(llm=llm, prompt=prompt_template)\n",
    "\n",
    "chain.invoke(input=\"The movie 'Everything Everywhere All at Once' was a mind-bending masterpiece! Michelle Yeoh's performance was simply phenomenal, and the visuals were breathtaking. It's a must-watch for anyone who loves sci-fi with a touch of heart. The cinema ticket price was 5.12 $\")\n"
   ]
  },
  {
   "cell_type": "markdown",
   "id": "b2d5ca8d-4cbe-4c61-b070-25ea0177a267",
   "metadata": {},
   "source": [
    "### ResponseSchema"
   ]
  },
  {
   "cell_type": "code",
   "execution_count": 29,
   "id": "f5f2baf8-6649-482d-93b1-298cc955ca8f",
   "metadata": {},
   "outputs": [
    {
     "name": "stdout",
     "output_type": "stream",
     "text": [
      "[ResponseSchema(name='title', description='Title of the movie.', type='string'), ResponseSchema(name='sentiment', description='Overall sentiment (positive, negative, mixed).', type='string'), ResponseSchema(name='lead_actor', description='Name of the lead actor/actress.', type='string'), ResponseSchema(name='genre', description='Main genre of the movie (e.g., sci-fi, comedy, drama).', type='string'), ResponseSchema(name='price', description='Is the cinema ticket price. Use NONE if it is not provided.', type='float')]\n"
     ]
    }
   ],
   "source": [
    "from langchain.output_parsers import ResponseSchema, StructuredOutputParser\n",
    "\n",
    "response_schemas = [\n",
    "    ResponseSchema(name=\"title\", description=\"Title of the movie.\"),\n",
    "    ResponseSchema(name=\"sentiment\", description=\"Overall sentiment (positive, negative, mixed).\"),\n",
    "    ResponseSchema(name=\"lead_actor\", description=\"Name of the lead actor/actress.\"),\n",
    "    ResponseSchema(name=\"genre\", description=\"Main genre of the movie (e.g., sci-fi, comedy, drama).\"),\n",
    "    ResponseSchema(name=\"price\", description=\"Is the cinema ticket price. Use NONE if it is not provided.\", type=\"float\")\n",
    "]\n",
    "\n",
    "print(response_schemas)"
   ]
  },
  {
   "cell_type": "code",
   "execution_count": 31,
   "id": "ddca939a-d95a-456e-b2c8-7bdaab901e99",
   "metadata": {},
   "outputs": [
    {
     "name": "stdout",
     "output_type": "stream",
     "text": [
      "The output should be a markdown code snippet formatted in the following schema, including the leading and trailing \"```json\" and \"```\":\n",
      "\n",
      "```json\n",
      "{\n",
      "\t\"title\": string  // Title of the movie.\n",
      "\t\"sentiment\": string  // Overall sentiment (positive, negative, mixed).\n",
      "\t\"lead_actor\": string  // Name of the lead actor/actress.\n",
      "\t\"genre\": string  // Main genre of the movie (e.g., sci-fi, comedy, drama).\n",
      "\t\"price\": float  // Is the cinema ticket price. Use NONE if it is not provided.\n",
      "}\n",
      "```\n"
     ]
    }
   ],
   "source": [
    "parser = StructuredOutputParser.from_response_schemas(response_schemas)\n",
    "format_instructions = parser.get_format_instructions()\n",
    "\n",
    "print(format_instructions)"
   ]
  },
  {
   "cell_type": "code",
   "execution_count": 43,
   "id": "4c2ad7de-024d-4a77-8b45-a66e009a3dcf",
   "metadata": {},
   "outputs": [],
   "source": [
    "from langchain.prompts import ChatPromptTemplate, SystemMessagePromptTemplate\n",
    "\n",
    "prompt = ChatPromptTemplate(\n",
    "    messages = [\n",
    "        SystemMessagePromptTemplate.from_template(\n",
    "            \"Analyze the following movie review: \\n\\n{input}\\n\\n\"\n",
    "            \"Just return the JSON, do not add ANYTHING, NO INTERPRETATION!\\n\"\n",
    "            \"{format_instructions}\"\n",
    "        )\n",
    "    ],\n",
    "    input_variable=[\"input\"],\n",
    "    partial_variables={\"format_instructions\": format_instructions}\n",
    ")"
   ]
  },
  {
   "cell_type": "code",
   "execution_count": 45,
   "id": "f3079d50-1413-4ac6-97cd-78008c2e8148",
   "metadata": {},
   "outputs": [
    {
     "name": "stdout",
     "output_type": "stream",
     "text": [
      "content='```json\\n{\\n\\t\"title\": \"Everything Everywhere All at Once\",\\n\\t\"sentiment\": \"positive\",\\n\\t\"lead_actor\": \"Michelle Yeoh\",\\n\\t\"genre\": \"sci-fi\",\\n\\t\"price\": 5.12\\n}\\n```' response_metadata={'token_usage': {'completion_tokens': 51, 'prompt_tokens': 212, 'total_tokens': 263}, 'model_name': 'gpt-3.5-turbo', 'system_fingerprint': None, 'finish_reason': 'stop', 'logprobs': None} id='run-3092fc30-9f67-4b23-9863-7e4cc15b1393-0'\n"
     ]
    }
   ],
   "source": [
    "input = prompt.format_prompt(\n",
    "    input=\"The movie 'Everything Everywhere All at Once' was a mind-bending masterpiece! Michelle Yeoh's performance was simply phenomenal, and the visuals were breathtaking. It's a must-watch for anyone who loves sci-fi with a touch of heart. The cinema ticket price was 5.12 $\"\n",
    ")\n",
    "\n",
    "output = llm(input.to_messages())\n",
    "\n",
    "print(output)"
   ]
  },
  {
   "cell_type": "code",
   "execution_count": 47,
   "id": "6b8131cc-185f-4c13-ad26-5eb0b102cf3b",
   "metadata": {},
   "outputs": [
    {
     "name": "stdout",
     "output_type": "stream",
     "text": [
      "{'title': 'Everything Everywhere All at Once', 'sentiment': 'positive', 'lead_actor': 'Michelle Yeoh', 'genre': 'sci-fi', 'price': 5.12}\n"
     ]
    }
   ],
   "source": [
    "json_output = parser.parse(output.content)\n",
    "print(json_output)"
   ]
  },
  {
   "cell_type": "markdown",
   "id": "d5430900-3b4c-4f16-85a6-75af88c9d8d5",
   "metadata": {},
   "source": [
    "### RouterChain in LangChain"
   ]
  },
  {
   "cell_type": "code",
   "execution_count": 72,
   "id": "97c975df-3804-454c-91de-a6c76031d59a",
   "metadata": {},
   "outputs": [],
   "source": [
    "from langchain.chains.router import MultiPromptChain\n",
    "from langchain.chains.llm import LLMChain\n",
    "from langchain.prompts import PromptTemplate\n",
    "from langchain.chains.router.llm_router import LLMRouterChain, RouterOutputParser\n",
    "from langchain.chains.router.multi_prompt_prompt import MULTI_PROMPT_ROUTER_TEMPLATE\n",
    "\n",
    "positive_template = \"\"\"\n",
    "You are an AI that focuses on the positive side of things. \\\n",
    "Whenever you analyze a text, you look for the positive aspects and highlight them.\n",
    "Here is the text:\n",
    "{input}\n",
    "\"\"\"\n",
    "\n",
    "neutral_template = \"\"\"\n",
    "You are an AI that has a neutral perspective. You just provide a balanced analysis of the text, \\\n",
    "not favoring any positive or negative aspects. Here is the text:\n",
    "{input}\n",
    "\"\"\"\n",
    "\n",
    "negative_template = \"\"\"\n",
    "You are an AI that is designed to find the negative aspects in a text. \\\n",
    "You analyze a text and show the potential downsides. Here is the text:\n",
    "{input}\n",
    "\"\"\"\n",
    "\n",
    "prompt_infos = [\n",
    "    {\n",
    "        \"name\":\"positive\",\n",
    "        \"description\":\"Good for analyzing positive sentiments\",\n",
    "        \"prompt_template\":positive_template\n",
    "    },\n",
    "    {\n",
    "        \"name\":\"neutral\",\n",
    "        \"description\":\"Good for analyzing neutral sentiments\",\n",
    "        \"prompt_template\":neutral_template\n",
    "    },\n",
    "    {\n",
    "        \"name\":\"negative\",\n",
    "        \"description\":\"Good for analyzing negative sentiments\",\n",
    "        \"prompt_template\":negative_template\n",
    "    }\n",
    "]"
   ]
  },
  {
   "cell_type": "code",
   "execution_count": 74,
   "id": "090c795b-761d-46dc-91be-c62be74953a6",
   "metadata": {},
   "outputs": [],
   "source": [
    "destination_chains = {}"
   ]
  },
  {
   "cell_type": "code",
   "execution_count": 76,
   "id": "bcd2aa8a-4eb9-4c0b-86a4-cefe34d63d7a",
   "metadata": {},
   "outputs": [],
   "source": [
    "for p_infos in prompt_infos:\n",
    "    name = p_infos[\"name\"]\n",
    "    prompt_template = p_infos[\"prompt_template\"]\n",
    "    prompt = PromptTemplate(template=prompt_template, input_variables=[\"input\"])\n",
    "    chain = LLMChain(llm=llm, prompt=prompt)\n",
    "    destination_chains[name] = chain"
   ]
  },
  {
   "cell_type": "code",
   "execution_count": 78,
   "id": "7bbff3d8-93e5-4d6e-b603-66a057fa2b13",
   "metadata": {},
   "outputs": [
    {
     "name": "stdout",
     "output_type": "stream",
     "text": [
      "['positive:Good for analyzing positive sentiments', 'neutral:Good for analyzing neutral sentiments', 'negative:Good for analyzing negative sentiments']\n"
     ]
    }
   ],
   "source": [
    "destinations = [f\"{p['name']}:{p['description']}\" for p in prompt_infos]\n",
    "print(destinations)"
   ]
  },
  {
   "cell_type": "code",
   "execution_count": 80,
   "id": "6d676891-3a6e-4819-8e5d-a3abab340449",
   "metadata": {},
   "outputs": [
    {
     "name": "stdout",
     "output_type": "stream",
     "text": [
      "positive:Good for analyzing positive sentiments\n",
      "neutral:Good for analyzing neutral sentiments\n",
      "negative:Good for analyzing negative sentiments\n"
     ]
    }
   ],
   "source": [
    "destination_str = \"\\n\".join(destinations)\n",
    "print(destination_str)"
   ]
  },
  {
   "cell_type": "code",
   "execution_count": 82,
   "id": "eb5c71b4-a49d-4b37-95e9-0f70b19dbefd",
   "metadata": {},
   "outputs": [],
   "source": [
    "router_template = MULTI_PROMPT_ROUTER_TEMPLATE.format(destinations=destination_str)"
   ]
  },
  {
   "cell_type": "code",
   "execution_count": 84,
   "id": "8fbd4ad5-7d79-487f-8d03-38b1b81ad8ae",
   "metadata": {},
   "outputs": [],
   "source": [
    "router_prompt=PromptTemplate(\n",
    "    template=router_template,\n",
    "    input_variables=[\"input\"],\n",
    "    output_parser=RouterOutputParser()\n",
    ")"
   ]
  },
  {
   "cell_type": "code",
   "execution_count": 86,
   "id": "ea9fda89-1955-4b17-8f53-c170b65a0363",
   "metadata": {},
   "outputs": [],
   "source": [
    "router_chain = LLMRouterChain.from_llm(llm, router_prompt)"
   ]
  },
  {
   "cell_type": "code",
   "execution_count": 88,
   "id": "9a052735-a044-4a03-827d-7ede083af7d0",
   "metadata": {},
   "outputs": [],
   "source": [
    "chain = MultiPromptChain(\n",
    "    router_chain=router_chain,\n",
    "    destination_chains=destination_chains,\n",
    "    default_chain=destination_chains[\"neutral\"],\n",
    "    verbose=True\n",
    ")"
   ]
  },
  {
   "cell_type": "code",
   "execution_count": 90,
   "id": "9280807f-842c-4c4f-8925-252cb32f6d55",
   "metadata": {},
   "outputs": [
    {
     "name": "stdout",
     "output_type": "stream",
     "text": [
      "\n",
      "\n",
      "\u001b[1m> Entering new MultiPromptChain chain...\u001b[0m\n",
      "positive: {'input': 'The new iPhone 15 Pro Max boasts incredible camera capabilities, but the price tag of $1599 is a bit steep for many consumers.'}\n",
      "\u001b[1m> Finished chain.\u001b[0m\n"
     ]
    },
    {
     "data": {
      "text/plain": [
       "{'input': 'The new iPhone 15 Pro Max boasts incredible camera capabilities, but the price tag of $1599 is a bit steep for many consumers.',\n",
       " 'text': 'The new iPhone 15 Pro Max has amazing camera capabilities, showcasing the continuous innovation in technology. This high-end device offers top-notch features that are sure to impress photography enthusiasts. While the price tag may be considered steep by some, it reflects the premium quality and cutting-edge technology packed into this device.'}"
      ]
     },
     "execution_count": 90,
     "metadata": {},
     "output_type": "execute_result"
    }
   ],
   "source": [
    "chain.invoke(\"The new iPhone 15 Pro Max boasts incredible camera capabilities, but the price tag of $1599 is a bit steep for many consumers.\")"
   ]
  },
  {
   "cell_type": "markdown",
   "id": "6d61c0ee-fc82-4e41-90b4-8de2cfce295b",
   "metadata": {},
   "source": [
    "### Transform Chain"
   ]
  },
  {
   "cell_type": "markdown",
   "id": "59d29f9b-2f3e-4c40-a776-0f7655ee3222",
   "metadata": {},
   "source": [
    "### Simple Transform Chain"
   ]
  },
  {
   "cell_type": "code",
   "execution_count": 105,
   "id": "145c6ea0-ace3-497b-a72e-cb85174cc209",
   "metadata": {},
   "outputs": [
    {
     "name": "stdout",
     "output_type": "stream",
     "text": [
      "{'text': 'Hello, world! this is an example of transofrmchain', 'transformed_text': 'HELLO, WORLD! THIS IS AN EXAMPLE OF TRANSOFRMCHAIN'}\n"
     ]
    }
   ],
   "source": [
    "from langchain.chains import TransformChain\n",
    "from langchain.llms import OpenAI\n",
    "\n",
    "def tranform_func(inputs):\n",
    "    text=inputs[\"text\"]\n",
    "    transformed_text = text.upper()\n",
    "    return {\"transformed_text\": transformed_text}\n",
    "\n",
    "llm = OpenAI(temperature=0.9)\n",
    "\n",
    "transform_chain=TransformChain(\n",
    "    input_variables=[\"text\"],\n",
    "    output_variables=[\"transformed_text\"],\n",
    "    transform=transform_func\n",
    ")\n",
    "\n",
    "input_text=\"Hello, world! this is an example of transofrmchain\"\n",
    "\n",
    "result = transform_chain({'text':input_text})\n",
    "\n",
    "print(result)"
   ]
  },
  {
   "cell_type": "markdown",
   "id": "d1ff00ea-1998-4f8e-91fa-7375614a4ddc",
   "metadata": {},
   "source": [
    "### Advanced Transform Chain"
   ]
  },
  {
   "cell_type": "code",
   "execution_count": 121,
   "id": "0e110af1-4663-4d9c-a5a4-65220cf5ccfa",
   "metadata": {},
   "outputs": [
    {
     "name": "stdout",
     "output_type": "stream",
     "text": [
      "{'text': 'LangChain provides a powerful framework for building language model chains.', 'transformed_summary': '\\nLANGCHAIN IS A COMPREHENSIVE FRAMEWORK THAT ENABLES THE CONSTRUCTION OF ROBUST LANGUAGE MODEL CHAINS. ', 'summary_length': 14, 'translated_summary': '\\n\\nLANGCHAIN EST UNE STRUCTURE COMPLÈTE QUI PERMET LA CONSTRUCTION DE CHAÎNES DE MODÈLES DE LANGUE ROBUSTES.'}\n"
     ]
    }
   ],
   "source": [
    "from langchain.chains import TransformChain, SequentialChain, LLMChain\n",
    "from langchain.llms import OpenAI\n",
    "from langchain.prompts import PromptTemplate\n",
    "\n",
    "# Chain1: Define a chain for summarizing the text using OpenAI\n",
    "llm = OpenAI(temperature=0.9)\n",
    "summarize_prompt=PromptTemplate(\n",
    "    input_variables=['text'],\n",
    "    template='Summarize the following text:{text}'\n",
    ")\n",
    "\n",
    "summarize_chain = LLMChain(\n",
    "    llm=llm,\n",
    "    prompt=summarize_prompt,\n",
    "    output_key='summary'\n",
    ")\n",
    "#Chain2: Define a chain for converting the summary to uppercase and appends its length\n",
    "def transform_func(inputs):\n",
    "    summary=inputs['summary']\n",
    "    transformed_summary=summary.upper()\n",
    "    summary_length=len(summary.split())\n",
    "    return{\n",
    "        'transformed_summary':transformed_summary,\n",
    "        'summary_length':summary_length\n",
    "    }\n",
    "\n",
    "transform_chain = TransformChain(\n",
    "    input_variables=['summary'],\n",
    "    output_variables=['transformed_summary','summary_length'],\n",
    "    transform= transform_func\n",
    ")\n",
    "#Chain3: Define a chain for translating the summary to another language using OpenAI\n",
    "translate_prompt=PromptTemplate(\n",
    "    input_variables=['transformed_summary'],\n",
    "    template='Translate the following text to French:{transformed_summary}'\n",
    ")\n",
    "\n",
    "translate_chain=LLMChain(\n",
    "    llm=llm,\n",
    "    prompt=translate_prompt,\n",
    "    output_key='translated_summary'\n",
    ")\n",
    "\n",
    "# Combine the chains into a sequential chain\n",
    "advanced_chain = SequentialChain(\n",
    "    input_variables=['text'],\n",
    "    chains=[\n",
    "        summarize_chain,\n",
    "        transform_chain,\n",
    "        translate_chain\n",
    "    ],\n",
    "    output_variables=['transformed_summary','summary_length','translated_summary']\n",
    ")\n",
    "\n",
    "input_text = 'LangChain provides a powerful framework for building language model chains.'\n",
    "\n",
    "result = advanced_chain({'text':input_text})\n",
    "\n",
    "print(result)"
   ]
  },
  {
   "cell_type": "code",
   "execution_count": null,
   "id": "b3882791-7568-4ff4-9f93-1029ff19be8d",
   "metadata": {},
   "outputs": [],
   "source": []
  },
  {
   "cell_type": "code",
   "execution_count": null,
   "id": "9e12cfd9-2253-42bc-9342-986199331d06",
   "metadata": {},
   "outputs": [],
   "source": []
  },
  {
   "cell_type": "code",
   "execution_count": null,
   "id": "ac89fe0a-7308-4dc8-b836-815fd09266f6",
   "metadata": {},
   "outputs": [],
   "source": []
  },
  {
   "cell_type": "code",
   "execution_count": null,
   "id": "4bcb7942-bda5-47c4-8dd2-8991daaf4eb1",
   "metadata": {},
   "outputs": [],
   "source": []
  },
  {
   "cell_type": "code",
   "execution_count": null,
   "id": "eb550d1a-024a-4015-a05c-b9f2f38fba2b",
   "metadata": {},
   "outputs": [],
   "source": []
  },
  {
   "cell_type": "code",
   "execution_count": null,
   "id": "1d53d7b3-2f63-4874-9f89-6bc5ef35f7ba",
   "metadata": {},
   "outputs": [],
   "source": []
  },
  {
   "cell_type": "code",
   "execution_count": null,
   "id": "be464120-2e57-4933-8019-554f55ecfa72",
   "metadata": {},
   "outputs": [],
   "source": []
  },
  {
   "cell_type": "code",
   "execution_count": null,
   "id": "8549c42f-b5e1-40ba-b5a7-f01734200078",
   "metadata": {},
   "outputs": [],
   "source": []
  },
  {
   "cell_type": "code",
   "execution_count": null,
   "id": "c8506997-685c-46d5-b41d-4ae3e805e128",
   "metadata": {},
   "outputs": [],
   "source": []
  },
  {
   "cell_type": "code",
   "execution_count": null,
   "id": "6df3890c-85ad-4cab-a0c7-bde6f2177e10",
   "metadata": {},
   "outputs": [],
   "source": []
  },
  {
   "cell_type": "code",
   "execution_count": null,
   "id": "441a488f-fb6a-474c-b025-f5ace118b5e7",
   "metadata": {},
   "outputs": [],
   "source": []
  },
  {
   "cell_type": "code",
   "execution_count": null,
   "id": "406fe881-23c0-493f-b3be-edd40b93a8a9",
   "metadata": {},
   "outputs": [],
   "source": []
  },
  {
   "cell_type": "code",
   "execution_count": null,
   "id": "3af3eb2f-fcfc-497e-9985-81e09c7121de",
   "metadata": {},
   "outputs": [],
   "source": []
  },
  {
   "cell_type": "code",
   "execution_count": null,
   "id": "fd071518-bb6f-4700-9710-60d77b8f1c16",
   "metadata": {},
   "outputs": [],
   "source": []
  },
  {
   "cell_type": "code",
   "execution_count": null,
   "id": "f551cd2e-fbbc-449b-97cf-b06cd9874fab",
   "metadata": {},
   "outputs": [],
   "source": []
  },
  {
   "cell_type": "code",
   "execution_count": null,
   "id": "d5e42ee6-5fca-4bd7-82f3-d3e757c6bab2",
   "metadata": {},
   "outputs": [],
   "source": []
  },
  {
   "cell_type": "code",
   "execution_count": null,
   "id": "e7159fa9-207a-4ffe-b863-ef2084e5b939",
   "metadata": {},
   "outputs": [],
   "source": []
  },
  {
   "cell_type": "code",
   "execution_count": null,
   "id": "dd275e6f-d4b3-4d00-997a-79200cebc4b9",
   "metadata": {},
   "outputs": [],
   "source": []
  },
  {
   "cell_type": "code",
   "execution_count": null,
   "id": "d0451c0c-6533-4ab2-9d29-7758d9642312",
   "metadata": {},
   "outputs": [],
   "source": []
  }
 ],
 "metadata": {
  "kernelspec": {
   "display_name": "Python 3 (ipykernel)",
   "language": "python",
   "name": "python3"
  },
  "language_info": {
   "codemirror_mode": {
    "name": "ipython",
    "version": 3
   },
   "file_extension": ".py",
   "mimetype": "text/x-python",
   "name": "python",
   "nbconvert_exporter": "python",
   "pygments_lexer": "ipython3",
   "version": "3.11.7"
  }
 },
 "nbformat": 4,
 "nbformat_minor": 5
}
