{
 "cells": [
  {
   "cell_type": "markdown",
   "id": "e987635a-37a1-4218-a3ba-41a7141e249d",
   "metadata": {},
   "source": [
    "# Building a ChatGPT clone from Scratch"
   ]
  },
  {
   "cell_type": "markdown",
   "id": "91824eb0-f738-488e-9d48-0709dac639c7",
   "metadata": {},
   "source": [
    "### Install required libraries"
   ]
  },
  {
   "cell_type": "code",
   "execution_count": 4,
   "id": "c688e0d2-90f9-4c78-8525-dce1e7b1f013",
   "metadata": {},
   "outputs": [
    {
     "name": "stdout",
     "output_type": "stream",
     "text": [
      "Note: you may need to restart the kernel to use updated packages.\n"
     ]
    }
   ],
   "source": [
    "pip install --upgrade openai -q"
   ]
  },
  {
   "cell_type": "markdown",
   "id": "73fe9708-355e-4e63-9766-a8d3b2549c1c",
   "metadata": {},
   "source": [
    "### Import Required Libraries and Load OpenAI API Key"
   ]
  },
  {
   "cell_type": "code",
   "execution_count": 5,
   "id": "062d09da-92e6-4946-93ad-285cc9085e09",
   "metadata": {},
   "outputs": [
    {
     "name": "stdout",
     "output_type": "stream",
     "text": [
      "API Key loaded: True\n"
     ]
    }
   ],
   "source": [
    "import os\n",
    "import openai\n",
    "from dotenv import load_dotenv, find_dotenv\n",
    "load_dotenv(find_dotenv(), override=True)\n",
    "\n",
    "os.environ.get('OPENAI_API_KEY')\n",
    "\n",
    "print(\"API Key loaded:\", os.environ.get('OPENAI_API_KEY') is not None)"
   ]
  },
  {
   "cell_type": "markdown",
   "id": "3acd83f9-35f6-4b6b-962c-7f3300b3b763",
   "metadata": {},
   "source": [
    "### Understand how the conversation between user and chatgpt is organized"
   ]
  },
  {
   "cell_type": "code",
   "execution_count": 13,
   "id": "29ea2fb6-3a27-4160-930d-02e69b3cc00d",
   "metadata": {},
   "outputs": [
    {
     "name": "stdout",
     "output_type": "stream",
     "text": [
      "1. Paris, France: Known for the Eiffel Tower, Louvre Museum, and culinary delights.\n",
      "2. Rome, Italy: Famous for attractions like the Colosseum, the Vatican City, and its rich history.\n",
      "3. Barcelona, Spain: Renowned for its unique architecture, arts, and beaches.\n",
      "\n",
      "**************************************************\n",
      "\n",
      "Sure, here's a 7-day itinerary for Paris, France:\n",
      "\n",
      "Day 1: Arrival and relaxation. Depending on what time you arrive, explore the neighborhood of your accommodation.\n",
      "\n",
      "Day 2: Visit the Louvre Museum in the morning. In the afternoon, take a stroll along the Seine River up to the iconic Eiffel Tower. Spend the evening enjoying the lights of the tower.\n",
      "\n",
      "Day 3: Visit the Notre Dame Cathedral in the morning. Then explore the Sainte-Chapelle and the Latin Quarter, including the Pantheon.\n",
      "\n",
      "Day 4: Spend the day exploring Versailles. Visit the Palace of Versailles and its gardens in the morning then check out the town in the afternoon.\n",
      "\n",
      "Day 5: Visit Montmartre in the morning, including the Sacré-Cœur Basilica and the surrounding area. In the afternoon, visit the Pompidou Centre for some modern art.\n",
      "\n",
      "Day 6: Spend the day in the Marais district. Visit the Picasso Museum and then explore the Place des Vosges and the area’s trendy shops and cafes. \n",
      "\n",
      "Day 7: Dedicate your last day to exploring the Champs Elysees, from the Arc de Triomphe to the Place de la Concorde. If you have time left, visit the Musée d'Orsay or the Rodin Museum. Don't forget to buy some souvenirs!\n",
      "\n",
      "Remember to book your tickets in advance for popular attractions to avoid long queues. This is a basic itinerary and can be adjusted according to personal interests and pace.\n",
      "\n",
      "**************************************************\n",
      "\n",
      "Here are some cultural etiquette tips to keep in mind when visiting Paris, France:\n",
      "\n",
      "1. Politeness: Always greet with a \"Bonjour\" (Good day) or \"Bonsoir\" (Good evening) when entering shops, and \"Au revoir\" (Goodbye) when leaving.\n",
      "\n",
      "2. Dress Code: Parisians are known for their fashion sense. Avoid wearing athletic wear, flip-flops or baseball caps in the city.\n",
      "\n",
      "3. Languages: While many Parisians speak English, they appreciate when visitors attempt to use French phrases. \n",
      "\n",
      "4. Dining Etiquette: The French tend to eat late, with dinner usually starting from 7 pm. Tipping is appreciated but not mandatory, as service charge is included in the bill.\n",
      "\n",
      "5. Respect Silence: The French value quiet and peace, so try to keep your voice down when in public areas.\n",
      "\n",
      "6. Public Transport Etiquette: Give up your seat for the elderly or pregnant women on the Metro. Don't eat or drink in public transportation.\n",
      "\n",
      "7. Queuing: Stand in line and wait for your turn, whether it's at a bakery, museum entrance, or bus stop. \n",
      "\n",
      "Remember, cultural norms can vary, and it's always best to observe and respect local customs.\n"
     ]
    }
   ],
   "source": [
    "question1 = 'What are the top 3 must-visit destinations in Europe?'\n",
    "question2 = 'Can you plan a 7-days itineray for one of those destinations?'\n",
    "question3 = 'What are some cultural etiquette tips to keep in mind when visiting that destination?'\n",
    "\n",
    "#Question1\n",
    "messages = [\n",
    "    {'role':'system', 'content':'Answer as concisely as possible.'},\n",
    "    {'role':'user', 'content': question1}\n",
    "]\n",
    "\n",
    "response = openai.chat.completions.create(\n",
    "    model='gpt-4',\n",
    "    messages=messages,\n",
    "    temperature=0.9\n",
    ")\n",
    "\n",
    "chatbot_response_1 = response.choices[0].message.content\n",
    "print(chatbot_response_1)\n",
    "\n",
    "print()\n",
    "print('*' * 50)\n",
    "print()\n",
    "\n",
    "# Question2\n",
    "messages = [\n",
    "    {'role':'system', 'content':'Answer as concisely as possible.'},\n",
    "    {'role':'user', 'content': question1},\n",
    "    {'role':'assistant','content':chatbot_response_1},\n",
    "    {'role':'user','content':question2}\n",
    "]\n",
    "\n",
    "response = openai.chat.completions.create(\n",
    "    model='gpt-4',\n",
    "    messages=messages,\n",
    "    temperature=0.9\n",
    ")\n",
    "\n",
    "chatbot_response_2 = response.choices[0].message.content\n",
    "print(chatbot_response_2)\n",
    "\n",
    "print()\n",
    "print('*' * 50)\n",
    "print()\n",
    "\n",
    "# Question 3\n",
    "\n",
    "messages = [\n",
    "    {'role':'system', 'content':'Answer as concisely as possible.'},\n",
    "    {'role':'user', 'content': question1},\n",
    "    {'role':'assistant','content':chatbot_response_1},\n",
    "    {'role':'user','content':question2},\n",
    "    {'role':'assistant', 'content':chatbot_response_2},\n",
    "    {'role':'user','content':question3}\n",
    "]\n",
    "\n",
    "response = openai.chat.completions.create(\n",
    "    model='gpt-4',\n",
    "    messages=messages,\n",
    "    temperature=0.9\n",
    ")\n",
    "\n",
    "chatbot_response_3 = response.choices[0].message.content\n",
    "print(chatbot_response_3)"
   ]
  },
  {
   "cell_type": "markdown",
   "id": "bc623adf-5d2a-4bdc-945c-052e57d79e2c",
   "metadata": {},
   "source": [
    "### Building the ChatBot"
   ]
  },
  {
   "cell_type": "code",
   "execution_count": 18,
   "id": "939ad7e6-7aa6-4aee-98c7-01a3b0d230f0",
   "metadata": {},
   "outputs": [
    {
     "name": "stdin",
     "output_type": "stream",
     "text": [
      "System prompt:  You are an intelligent assistant fluent in arabic. You task is to respond to all questions and inquires in Modern standard arabic language\n",
      "User: What are some popular tourist attractions in the UAE?\n"
     ]
    },
    {
     "name": "stdout",
     "output_type": "stream",
     "text": [
      "\n",
      " ChatBot: بعض المعالم السياحية الشهيرة في الإمارات العربية المتحدة تشمل برج خليفة، الذي يُعتبر الأطول في العالم، والنافورة الراقصة في دبي، وبرج العرب الفريد من نوعه، بالإضافة إلى جزيرة ياس التي تحتضن حلبة مرسى ياس للفورمولا 1 وحديقة فيراري العالمية. حديقة السفاري في العين، والقصور التاريخية في أبو ظبي مثل قصر الحصن، والمساجد الرائعة مثل جامع الشيخ زايد الكبير، كما يوجد متحف اللوفر أبو ظبي الذي يحتوي على مجموعة غنية من الأعمال الفنية.\n",
      "\n",
      "**************************************************\n",
      "\n"
     ]
    },
    {
     "name": "stdin",
     "output_type": "stream",
     "text": [
      "User: quit\n"
     ]
    },
    {
     "name": "stdout",
     "output_type": "stream",
     "text": [
      "Chat Bot: Glad to be your assistant for today.\n"
     ]
    }
   ],
   "source": [
    "import os\n",
    "import openai\n",
    "\n",
    "questions = list()\n",
    "chatbot_responses = list()\n",
    "messages = list()\n",
    "\n",
    "system_prompt = input('System prompt: ')\n",
    "if system_prompt == '':\n",
    "    system_prompt = 'Answer as concisely as possible.'\n",
    "\n",
    "messages.append({'role':'system','content':system_prompt})\n",
    "\n",
    "while True:\n",
    "    current_question = input('User:')\n",
    "    if current_question.lower() in ['exit', 'quit']:\n",
    "        print('Chat Bot: Glad to be your assistant for today.')\n",
    "        break\n",
    "\n",
    "    if current_question == '':\n",
    "        continue\n",
    "\n",
    "    messages.append({'role':'user','content': current_question})\n",
    "    questions.append(current_question)\n",
    "\n",
    "    response = openai.chat.completions.create(\n",
    "        model='gpt-4',\n",
    "        messages = messages,\n",
    "        temperature =0.9\n",
    "    )\n",
    "    current_response = response.choices[0].message.content\n",
    "    print(f\"\\n ChatBot: {current_response}\")\n",
    "    chatbot_responses.append(current_response)\n",
    "    messages.append({'role':'assistant', 'content':current_response})\n",
    "\n",
    "    print('\\n' + '*' * 50 + '\\n')"
   ]
  },
  {
   "cell_type": "code",
   "execution_count": null,
   "id": "8dfa3954-b922-41f4-9df3-db56fa5337af",
   "metadata": {},
   "outputs": [],
   "source": []
  },
  {
   "cell_type": "code",
   "execution_count": null,
   "id": "c997ef45-d742-419e-8a96-ed4ef9236788",
   "metadata": {},
   "outputs": [],
   "source": []
  },
  {
   "cell_type": "code",
   "execution_count": null,
   "id": "4379db67-4dff-4adf-bc9a-ec57b8ea596b",
   "metadata": {},
   "outputs": [],
   "source": []
  },
  {
   "cell_type": "code",
   "execution_count": null,
   "id": "9c72d07d-1a5d-44e3-a121-17e09a639c62",
   "metadata": {},
   "outputs": [],
   "source": []
  },
  {
   "cell_type": "code",
   "execution_count": null,
   "id": "dd1a9792-fc67-40a8-be66-a9ea4f3e4344",
   "metadata": {},
   "outputs": [],
   "source": []
  },
  {
   "cell_type": "code",
   "execution_count": null,
   "id": "6c84467a-0eba-4fab-9736-18bf4ccba96c",
   "metadata": {},
   "outputs": [],
   "source": []
  },
  {
   "cell_type": "code",
   "execution_count": null,
   "id": "bbd0ac51-3902-4450-b28e-905f95173c20",
   "metadata": {},
   "outputs": [],
   "source": []
  },
  {
   "cell_type": "code",
   "execution_count": null,
   "id": "e06134cd-6b5f-4351-b25a-da01579c1025",
   "metadata": {},
   "outputs": [],
   "source": []
  },
  {
   "cell_type": "code",
   "execution_count": null,
   "id": "3c0e04b3-5deb-4a40-a097-7cf4bae570ed",
   "metadata": {},
   "outputs": [],
   "source": []
  },
  {
   "cell_type": "code",
   "execution_count": null,
   "id": "215aa9d8-ee8a-4723-9855-a7b3c3bd54ea",
   "metadata": {},
   "outputs": [],
   "source": []
  },
  {
   "cell_type": "code",
   "execution_count": null,
   "id": "ae9beab9-9dcc-4003-8834-e77ce327ed22",
   "metadata": {},
   "outputs": [],
   "source": []
  },
  {
   "cell_type": "code",
   "execution_count": null,
   "id": "558ef8a2-7c35-4b35-8b3f-5a79b8fb62ca",
   "metadata": {},
   "outputs": [],
   "source": []
  },
  {
   "cell_type": "code",
   "execution_count": null,
   "id": "1fbdf016-3f6e-4f52-bf2f-b89b527964ca",
   "metadata": {},
   "outputs": [],
   "source": []
  },
  {
   "cell_type": "code",
   "execution_count": null,
   "id": "9b58063f-fa53-47ba-86e7-04f48287f437",
   "metadata": {},
   "outputs": [],
   "source": []
  },
  {
   "cell_type": "code",
   "execution_count": null,
   "id": "af2be360-fc86-4cbb-86f0-99245363e8eb",
   "metadata": {},
   "outputs": [],
   "source": []
  },
  {
   "cell_type": "code",
   "execution_count": null,
   "id": "e84c499d-f856-47c4-9a66-078db3f72f58",
   "metadata": {},
   "outputs": [],
   "source": []
  },
  {
   "cell_type": "code",
   "execution_count": null,
   "id": "2c17a181-1881-45f9-8fed-e097dacec7c2",
   "metadata": {},
   "outputs": [],
   "source": []
  },
  {
   "cell_type": "code",
   "execution_count": null,
   "id": "5b1d98b0-d38f-4552-8713-eaefd051d3a5",
   "metadata": {},
   "outputs": [],
   "source": []
  },
  {
   "cell_type": "code",
   "execution_count": null,
   "id": "ddbf3802-a38f-4cd6-9ef1-a68bafdef245",
   "metadata": {},
   "outputs": [],
   "source": []
  },
  {
   "cell_type": "code",
   "execution_count": null,
   "id": "af76f6ff-05d2-4dfd-8dd0-5c68a933e3c1",
   "metadata": {},
   "outputs": [],
   "source": []
  }
 ],
 "metadata": {
  "kernelspec": {
   "display_name": "Python 3 (ipykernel)",
   "language": "python",
   "name": "python3"
  },
  "language_info": {
   "codemirror_mode": {
    "name": "ipython",
    "version": 3
   },
   "file_extension": ".py",
   "mimetype": "text/x-python",
   "name": "python",
   "nbconvert_exporter": "python",
   "pygments_lexer": "ipython3",
   "version": "3.11.5"
  }
 },
 "nbformat": 4,
 "nbformat_minor": 5
}
