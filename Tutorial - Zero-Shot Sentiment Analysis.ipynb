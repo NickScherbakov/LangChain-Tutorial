{
 "cells": [
  {
   "cell_type": "markdown",
   "id": "139615d1-3660-46ef-8989-fc9194e46528",
   "metadata": {},
   "source": [
    "# Zero-Shot Sentiment Analysis App Using OpenAI And Streamlit"
   ]
  },
  {
   "cell_type": "markdown",
   "id": "711c64af-b792-4c2c-9bc6-68ab15212d5a",
   "metadata": {},
   "source": [
    "### Install Required Libraries"
   ]
  },
  {
   "cell_type": "code",
   "execution_count": 2,
   "id": "53937859-2b9f-4276-8759-f6ae0508f8cf",
   "metadata": {},
   "outputs": [],
   "source": [
    "!pip install -q openai\n",
    "!pip install -q python-dotenv"
   ]
  },
  {
   "cell_type": "markdown",
   "id": "27c760c8-d720-439b-be07-51d5e96ddb92",
   "metadata": {},
   "source": [
    "### Import Libraries"
   ]
  },
  {
   "cell_type": "code",
   "execution_count": 3,
   "id": "b2675ddd-3888-4b7e-904f-e675e449690f",
   "metadata": {},
   "outputs": [],
   "source": [
    "import openai\n",
    "import os"
   ]
  },
  {
   "cell_type": "markdown",
   "id": "0a055dcd-6cd1-49df-836b-4c3c6d424f3d",
   "metadata": {},
   "source": [
    "### Setup OpenAI"
   ]
  },
  {
   "cell_type": "code",
   "execution_count": 6,
   "id": "ccf3fa47-3303-4f5f-8eda-20667d8b132e",
   "metadata": {},
   "outputs": [],
   "source": [
    "def setup_openai():\n",
    "    from openai import OpenAI\n",
    "    from dotenv import load_dotenv, find_dotenv\n",
    "\n",
    "    load_dotenv(find_dotenv(), override=True)\n",
    "    client = OpenAI(api_key=os.environ.get('OPENAI_API_KEY'))\n",
    "    print(\"API Key Loaded:\", os.environ.get('OPENAI_API_KEY') is not None)\n",
    "    return client"
   ]
  },
  {
   "cell_type": "markdown",
   "id": "c7893416-c03d-4fbc-9ccd-38858a2b3bae",
   "metadata": {},
   "source": [
    "### Create OpenAI Client"
   ]
  },
  {
   "cell_type": "code",
   "execution_count": 7,
   "id": "719c0488-7bec-4cb0-9c3d-89938933db28",
   "metadata": {},
   "outputs": [
    {
     "name": "stdout",
     "output_type": "stream",
     "text": [
      "API Key Loaded: True\n"
     ]
    }
   ],
   "source": [
    "client = setup_openai()"
   ]
  },
  {
   "cell_type": "markdown",
   "id": "d1c793a4-6833-42c3-a226-5025e0c3b96a",
   "metadata": {},
   "source": [
    "### Create Sentiment Analysis Function"
   ]
  },
  {
   "cell_type": "code",
   "execution_count": 10,
   "id": "d2f33542-efa7-40b8-a2b1-4ac1ceabd515",
   "metadata": {},
   "outputs": [],
   "source": [
    "def get_sentiment_analysis(prompt, emotions):\n",
    "    system_prompt=f'''\n",
    "    You are an emotionally intelligent assistant.\n",
    "    Classify the sentiment of the user's text with Only ONE OF THE FOLLOWING EMOTIONS: {emotions}\n",
    "    After classifying the text, respond with the emotion ONLY.\n",
    "    '''\n",
    "\n",
    "    response = client.chat.completions.create(\n",
    "        model='gpt-3.5-turbo',\n",
    "        messages=[\n",
    "            {'role':'system', 'content': system_prompt},\n",
    "            {'role':'user', 'content': prompt}\n",
    "        ],\n",
    "        max_tokens=20,\n",
    "        temperature=0\n",
    "    )\n",
    "\n",
    "    r = response.choices[0].message.content\n",
    "\n",
    "    if r=='':\n",
    "        r='N/A'\n",
    "\n",
    "    return r"
   ]
  },
  {
   "cell_type": "markdown",
   "id": "de25a269-529d-4b20-868a-5a677c2a9c2d",
   "metadata": {},
   "source": [
    "### Test The Application"
   ]
  },
  {
   "cell_type": "code",
   "execution_count": 14,
   "id": "bc5b3b64-ae62-4b6c-8e5e-083169f61273",
   "metadata": {},
   "outputs": [
    {
     "name": "stdout",
     "output_type": "stream",
     "text": [
      "negative\n"
     ]
    }
   ],
   "source": [
    "emotions = 'positive, negative, neutral'\n",
    "prompt=\"Today was amazing! I finally got that promotion and made some fantastic new friend\"\n",
    "prompt = \"The view from this hiking trail is absolutely breathtaking\"\n",
    "prompt=\"I'm so frustrated with my car breaking down again. This is the worst day\"\n",
    "print(get_sentiment_analysis(prompt, emotions))"
   ]
  },
  {
   "cell_type": "code",
   "execution_count": 16,
   "id": "b1d08125-55af-458b-bbe4-15b4bb97798b",
   "metadata": {},
   "outputs": [
    {
     "name": "stdout",
     "output_type": "stream",
     "text": [
      "real\n"
     ]
    }
   ],
   "source": [
    "emotions='fake, real'\n",
    "prompt=\"New study claims eating chocolate everyday makes you live longer.\"\n",
    "prompt=\"NASA successfully launches a new rover to explore Mars.\"\n",
    "print(get_sentiment_analysis(prompt, emotions))"
   ]
  },
  {
   "cell_type": "code",
   "execution_count": 21,
   "id": "a78fd2fd-6b50-4569-8f75-a43c80a98f32",
   "metadata": {},
   "outputs": [
    {
     "name": "stdout",
     "output_type": "stream",
     "text": [
      "False\n"
     ]
    }
   ],
   "source": [
    "facts=\"True, False\"\n",
    "prompt=\"The capital of France is Berlin\"\n",
    "print(get_sentiment_analysis(prompt, facts))"
   ]
  },
  {
   "cell_type": "code",
   "execution_count": null,
   "id": "ff57cc06-1937-4157-9221-53439b2b156c",
   "metadata": {},
   "outputs": [],
   "source": []
  },
  {
   "cell_type": "code",
   "execution_count": null,
   "id": "78527961-f367-4757-8871-21983780fe30",
   "metadata": {},
   "outputs": [],
   "source": []
  },
  {
   "cell_type": "code",
   "execution_count": null,
   "id": "6f6cf2ce-7d90-4be1-9213-4052067bc480",
   "metadata": {},
   "outputs": [],
   "source": []
  },
  {
   "cell_type": "code",
   "execution_count": null,
   "id": "47ac15ba-0b07-4371-bad0-0b5520a65564",
   "metadata": {},
   "outputs": [],
   "source": []
  },
  {
   "cell_type": "code",
   "execution_count": null,
   "id": "9a058ecb-a075-43af-bea4-57c7289cc2da",
   "metadata": {},
   "outputs": [],
   "source": []
  },
  {
   "cell_type": "code",
   "execution_count": null,
   "id": "ec97ac1f-d536-4b38-a1a3-9b1349ee121e",
   "metadata": {},
   "outputs": [],
   "source": []
  },
  {
   "cell_type": "code",
   "execution_count": null,
   "id": "d6f214b5-6e0f-439e-ad97-8bb58f5ea644",
   "metadata": {},
   "outputs": [],
   "source": []
  },
  {
   "cell_type": "code",
   "execution_count": null,
   "id": "b1d09b3a-afe6-4a23-8ea4-fd7d8cd506bf",
   "metadata": {},
   "outputs": [],
   "source": []
  },
  {
   "cell_type": "code",
   "execution_count": null,
   "id": "8bd7d530-b072-47f8-a65f-8619a1118e12",
   "metadata": {},
   "outputs": [],
   "source": []
  },
  {
   "cell_type": "code",
   "execution_count": null,
   "id": "1a606b6f-5fed-4272-980a-e4a8ed035776",
   "metadata": {},
   "outputs": [],
   "source": []
  },
  {
   "cell_type": "code",
   "execution_count": null,
   "id": "8b21c91c-bdf1-429d-9db4-2822fdd68f3c",
   "metadata": {},
   "outputs": [],
   "source": []
  },
  {
   "cell_type": "code",
   "execution_count": null,
   "id": "b40982f8-ccb4-4331-854c-f3682909d2ea",
   "metadata": {},
   "outputs": [],
   "source": []
  },
  {
   "cell_type": "code",
   "execution_count": null,
   "id": "e32c7ae6-eeb8-4bb6-acf6-34fe6106f0f3",
   "metadata": {},
   "outputs": [],
   "source": []
  },
  {
   "cell_type": "code",
   "execution_count": null,
   "id": "d74898b2-48b6-457f-ae0e-9cfd603016b8",
   "metadata": {},
   "outputs": [],
   "source": []
  },
  {
   "cell_type": "code",
   "execution_count": null,
   "id": "7de02bdb-9c52-47ed-9404-1eb33b75d8e6",
   "metadata": {},
   "outputs": [],
   "source": []
  },
  {
   "cell_type": "code",
   "execution_count": null,
   "id": "a44d49dc-0b66-4451-92c3-e4a47efc262e",
   "metadata": {},
   "outputs": [],
   "source": []
  },
  {
   "cell_type": "code",
   "execution_count": null,
   "id": "e9d9eda7-036a-435a-b4c8-b28e7cf053fc",
   "metadata": {},
   "outputs": [],
   "source": []
  },
  {
   "cell_type": "code",
   "execution_count": null,
   "id": "557e212d-35fb-4c06-ae6a-6f9ffc724425",
   "metadata": {},
   "outputs": [],
   "source": []
  },
  {
   "cell_type": "code",
   "execution_count": null,
   "id": "acf7092f-d2b6-4b6f-9191-3743896ffeab",
   "metadata": {},
   "outputs": [],
   "source": []
  },
  {
   "cell_type": "code",
   "execution_count": null,
   "id": "db417aaa-0a35-43ea-b07c-8fb01ff328da",
   "metadata": {},
   "outputs": [],
   "source": []
  },
  {
   "cell_type": "code",
   "execution_count": null,
   "id": "be394d96-e124-4c12-bd64-4a87990fe599",
   "metadata": {},
   "outputs": [],
   "source": []
  },
  {
   "cell_type": "code",
   "execution_count": null,
   "id": "11396d79-26b1-48f0-baf8-56c93621a40d",
   "metadata": {},
   "outputs": [],
   "source": []
  }
 ],
 "metadata": {
  "kernelspec": {
   "display_name": "Python 3 (ipykernel)",
   "language": "python",
   "name": "python3"
  },
  "language_info": {
   "codemirror_mode": {
    "name": "ipython",
    "version": 3
   },
   "file_extension": ".py",
   "mimetype": "text/x-python",
   "name": "python",
   "nbconvert_exporter": "python",
   "pygments_lexer": "ipython3",
   "version": "3.11.7"
  }
 },
 "nbformat": 4,
 "nbformat_minor": 5
}
